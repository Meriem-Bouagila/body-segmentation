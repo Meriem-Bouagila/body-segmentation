{
  "nbformat": 4,
  "nbformat_minor": 0,
  "metadata": {
    "colab": {
      "name": "Body part segmentation on no_bg photo.ipynb",
      "version": "0.3.2",
      "provenance": [],
      "collapsed_sections": [],
      "include_colab_link": true
    },
    "kernelspec": {
      "name": "python3",
      "display_name": "Python 3"
    },
    "accelerator": "GPU"
  },
  "cells": [
    {
      "cell_type": "markdown",
      "metadata": {
        "id": "view-in-github",
        "colab_type": "text"
      },
      "source": [
        "<a href=\"https://colab.research.google.com/github/alexandergrishin/suitar/blob/master/Body_part_segmentation_on_no_bg_photo.ipynb\" target=\"_parent\"><img src=\"https://colab.research.google.com/assets/colab-badge.svg\" alt=\"Open In Colab\"/></a>"
      ]
    },
    {
      "metadata": {
        "id": "-m3vRDNdNKA-",
        "colab_type": "text"
      },
      "cell_type": "markdown",
      "source": [
        "# Installing PoseNet"
      ]
    },
    {
      "metadata": {
        "id": "o_YbXV4iU5tg",
        "colab_type": "code",
        "outputId": "e21003a2-814e-41dc-a7a3-57ffbc2d281b",
        "colab": {
          "base_uri": "https://localhost:8080/",
          "height": 1246
        }
      },
      "cell_type": "code",
      "source": [
        " # Clone the repo and install 3rd-party libraries. \n",
        "!git clone https://www.github.com/ildoonet/tf-openpose \n",
        "%cd tf-openpose\n",
        "!pip3 install -r requirements.txt\n",
        "\n",
        "# Build c++ library for post processing. See : https://github.com/ildoonet/tf-pose-estimation/tree/master/tf_pose/pafprocess\n",
        "%cd tf_pose/pafprocess\n",
        "!sudo apt install swig\n",
        "!swig -python -c++ pafprocess.i && python3 setup.py build_ext --inplace\n",
        "%cd ../.."
      ],
      "execution_count": 0,
      "outputs": [
        {
          "output_type": "stream",
          "text": [
            "Cloning into 'tf-openpose'...\n",
            "warning: redirecting to https://github.com/ildoonet/tf-openpose.git/\n",
            "remote: Enumerating objects: 11, done.\u001b[K\n",
            "remote: Counting objects: 100% (11/11), done.\u001b[K\n",
            "remote: Compressing objects: 100% (9/9), done.\u001b[K\n",
            "remote: Total 1312 (delta 3), reused 7 (delta 2), pack-reused 1301\u001b[K\n",
            "Receiving objects: 100% (1312/1312), 94.12 MiB | 607.00 KiB/s, done.\n",
            "Resolving deltas: 100% (692/692), done.\n",
            "/content/tf-openpose/tf-openpose\n",
            "Collecting git+https://github.com/ppwwyyxx/tensorpack.git (from -r requirements.txt (line 11))\n",
            "  Cloning https://github.com/ppwwyyxx/tensorpack.git to /tmp/pip-req-build-3gnq42ff\n",
            "Requirement already satisfied (use --upgrade to upgrade): tensorpack==0.9.1 from git+https://github.com/ppwwyyxx/tensorpack.git in /usr/local/lib/python3.6/dist-packages (from -r requirements.txt (line 11))\n",
            "Requirement already satisfied: argparse in /usr/local/lib/python3.6/dist-packages (from -r requirements.txt (line 1)) (1.4.0)\n",
            "Requirement already satisfied: dill in /usr/local/lib/python3.6/dist-packages (from -r requirements.txt (line 2)) (0.2.9)\n",
            "Requirement already satisfied: fire in /usr/local/lib/python3.6/dist-packages (from -r requirements.txt (line 3)) (0.1.3)\n",
            "Requirement already satisfied: matplotlib in /usr/local/lib/python3.6/dist-packages (from -r requirements.txt (line 4)) (3.0.3)\n",
            "Requirement already satisfied: psutil in /usr/local/lib/python3.6/dist-packages (from -r requirements.txt (line 5)) (5.4.8)\n",
            "Requirement already satisfied: requests in /usr/local/lib/python3.6/dist-packages (from -r requirements.txt (line 6)) (2.18.4)\n",
            "Requirement already satisfied: scikit-image in /usr/local/lib/python3.6/dist-packages (from -r requirements.txt (line 7)) (0.13.1)\n",
            "Requirement already satisfied: scipy in /usr/local/lib/python3.6/dist-packages (from -r requirements.txt (line 8)) (1.1.0)\n",
            "Requirement already satisfied: slidingwindow in /usr/local/lib/python3.6/dist-packages (from -r requirements.txt (line 9)) (0.0.13)\n",
            "Requirement already satisfied: tqdm in /usr/local/lib/python3.6/dist-packages (from -r requirements.txt (line 10)) (4.28.1)\n",
            "Requirement already satisfied: numba in /usr/local/lib/python3.6/dist-packages (from -r requirements.txt (line 12)) (0.40.1)\n",
            "Requirement already satisfied: numpy>=1.14 in /usr/local/lib/python3.6/dist-packages (from tensorpack==0.9.1->-r requirements.txt (line 11)) (1.14.6)\n",
            "Requirement already satisfied: six in /usr/local/lib/python3.6/dist-packages (from tensorpack==0.9.1->-r requirements.txt (line 11)) (1.11.0)\n",
            "Requirement already satisfied: termcolor>=1.1 in /usr/local/lib/python3.6/dist-packages (from tensorpack==0.9.1->-r requirements.txt (line 11)) (1.1.0)\n",
            "Requirement already satisfied: tabulate>=0.7.7 in /usr/local/lib/python3.6/dist-packages (from tensorpack==0.9.1->-r requirements.txt (line 11)) (0.8.3)\n",
            "Requirement already satisfied: msgpack>=0.5.2 in /usr/local/lib/python3.6/dist-packages (from tensorpack==0.9.1->-r requirements.txt (line 11)) (0.5.6)\n",
            "Requirement already satisfied: msgpack-numpy>=0.4.4.2 in /usr/local/lib/python3.6/dist-packages (from tensorpack==0.9.1->-r requirements.txt (line 11)) (0.4.4.2)\n",
            "Requirement already satisfied: pyzmq>=16 in /usr/local/lib/python3.6/dist-packages (from tensorpack==0.9.1->-r requirements.txt (line 11)) (17.0.0)\n",
            "Requirement already satisfied: cycler>=0.10 in /usr/local/lib/python3.6/dist-packages (from matplotlib->-r requirements.txt (line 4)) (0.10.0)\n",
            "Requirement already satisfied: kiwisolver>=1.0.1 in /usr/local/lib/python3.6/dist-packages (from matplotlib->-r requirements.txt (line 4)) (1.0.1)\n",
            "Requirement already satisfied: pyparsing!=2.0.4,!=2.1.2,!=2.1.6,>=2.0.1 in /usr/local/lib/python3.6/dist-packages (from matplotlib->-r requirements.txt (line 4)) (2.3.1)\n",
            "Requirement already satisfied: python-dateutil>=2.1 in /usr/local/lib/python3.6/dist-packages (from matplotlib->-r requirements.txt (line 4)) (2.5.3)\n",
            "Requirement already satisfied: certifi>=2017.4.17 in /usr/local/lib/python3.6/dist-packages (from requests->-r requirements.txt (line 6)) (2019.3.9)\n",
            "Requirement already satisfied: urllib3<1.23,>=1.21.1 in /usr/local/lib/python3.6/dist-packages (from requests->-r requirements.txt (line 6)) (1.22)\n",
            "Requirement already satisfied: idna<2.7,>=2.5 in /usr/local/lib/python3.6/dist-packages (from requests->-r requirements.txt (line 6)) (2.6)\n",
            "Requirement already satisfied: chardet<3.1.0,>=3.0.2 in /usr/local/lib/python3.6/dist-packages (from requests->-r requirements.txt (line 6)) (3.0.4)\n",
            "Requirement already satisfied: PyWavelets>=0.4.0 in /usr/local/lib/python3.6/dist-packages (from scikit-image->-r requirements.txt (line 7)) (1.0.2)\n",
            "Requirement already satisfied: pillow>=2.1.0 in /usr/local/lib/python3.6/dist-packages (from scikit-image->-r requirements.txt (line 7)) (4.1.1)\n",
            "Requirement already satisfied: networkx>=1.8 in /usr/local/lib/python3.6/dist-packages (from scikit-image->-r requirements.txt (line 7)) (2.2)\n",
            "Requirement already satisfied: llvmlite>=0.25.0dev0 in /usr/local/lib/python3.6/dist-packages (from numba->-r requirements.txt (line 12)) (0.27.1)\n",
            "Requirement already satisfied: setuptools in /usr/local/lib/python3.6/dist-packages (from kiwisolver>=1.0.1->matplotlib->-r requirements.txt (line 4)) (40.8.0)\n",
            "Requirement already satisfied: olefile in /usr/local/lib/python3.6/dist-packages (from pillow>=2.1.0->scikit-image->-r requirements.txt (line 7)) (0.46)\n",
            "Requirement already satisfied: decorator>=4.3.0 in /usr/local/lib/python3.6/dist-packages (from networkx>=1.8->scikit-image->-r requirements.txt (line 7)) (4.3.2)\n",
            "Building wheels for collected packages: tensorpack\n",
            "  Building wheel for tensorpack (setup.py) ... \u001b[?25ldone\n",
            "\u001b[?25h  Stored in directory: /tmp/pip-ephem-wheel-cache-wx1j7v3b/wheels/a8/b5/a9/025b3a1294b9ffff93309e6956c65aa80e0fa40821d29eff1e\n",
            "Successfully built tensorpack\n",
            "/content/tf-openpose/tf-openpose/tf_pose/pafprocess\n",
            "Reading package lists... Done\n",
            "Building dependency tree       \n",
            "Reading state information... Done\n",
            "swig is already the newest version (3.0.12-1).\n",
            "The following package was automatically installed and is no longer required:\n",
            "  libnvidia-common-410\n",
            "Use 'sudo apt autoremove' to remove it.\n",
            "0 upgraded, 0 newly installed, 0 to remove and 10 not upgraded.\n",
            "running build_ext\n",
            "building '_pafprocess' extension\n",
            "swigging pafprocess.i to pafprocess_wrap.cpp\n",
            "swig -python -c++ -o pafprocess_wrap.cpp pafprocess.i\n",
            "creating build\n",
            "creating build/temp.linux-x86_64-3.6\n",
            "x86_64-linux-gnu-gcc -pthread -DNDEBUG -g -fwrapv -O2 -Wall -g -fstack-protector-strong -Wformat -Werror=format-security -Wdate-time -D_FORTIFY_SOURCE=2 -fPIC -I/usr/local/lib/python3.6/dist-packages/numpy/core/include -I. -I/usr/include/python3.6m -c pafprocess.cpp -o build/temp.linux-x86_64-3.6/pafprocess.o\n",
            "x86_64-linux-gnu-gcc -pthread -DNDEBUG -g -fwrapv -O2 -Wall -g -fstack-protector-strong -Wformat -Werror=format-security -Wdate-time -D_FORTIFY_SOURCE=2 -fPIC -I/usr/local/lib/python3.6/dist-packages/numpy/core/include -I. -I/usr/include/python3.6m -c pafprocess_wrap.cpp -o build/temp.linux-x86_64-3.6/pafprocess_wrap.o\n",
            "x86_64-linux-gnu-g++ -pthread -shared -Wl,-O1 -Wl,-Bsymbolic-functions -Wl,-Bsymbolic-functions -Wl,-z,relro -Wl,-Bsymbolic-functions -Wl,-z,relro -g -fstack-protector-strong -Wformat -Werror=format-security -Wdate-time -D_FORTIFY_SOURCE=2 build/temp.linux-x86_64-3.6/pafprocess.o build/temp.linux-x86_64-3.6/pafprocess_wrap.o -o /content/tf-openpose/tf-openpose/tf_pose/pafprocess/_pafprocess.cpython-36m-x86_64-linux-gnu.so\n",
            "/content/tf-openpose/tf-openpose\n"
          ],
          "name": "stdout"
        }
      ]
    },
    {
      "metadata": {
        "id": "ampX2-W-OhfV",
        "colab_type": "text"
      },
      "cell_type": "markdown",
      "source": [
        "# Test the Posenet api"
      ]
    },
    {
      "metadata": {
        "id": "zY45m-GnO6bD",
        "colab_type": "text"
      },
      "cell_type": "markdown",
      "source": [
        "## Upload image from google drive"
      ]
    },
    {
      "metadata": {
        "id": "NYSCUH_xO5kx",
        "colab_type": "code",
        "outputId": "21567745-7290-4050-e50f-ce667f3e5dd2",
        "colab": {
          "base_uri": "https://localhost:8080/",
          "height": 195
        }
      },
      "cell_type": "code",
      "source": [
        "!pip install PyDrive\n",
        "import os\n",
        "from pydrive.auth import GoogleAuth\n",
        "from pydrive.drive import GoogleDrive\n",
        "from google.colab import auth\n",
        "from oauth2client.client import GoogleCredentials\n",
        "import io\n",
        "import zipfile\n",
        "from google.colab import files\n",
        "auth.authenticate_user()\n",
        "gauth = GoogleAuth()\n",
        "gauth.credentials = GoogleCredentials.get_application_default()\n",
        "drive = GoogleDrive(gauth)"
      ],
      "execution_count": 0,
      "outputs": [
        {
          "output_type": "stream",
          "text": [
            "Requirement already satisfied: PyDrive in /usr/local/lib/python3.6/dist-packages (1.3.1)\n",
            "Requirement already satisfied: google-api-python-client>=1.2 in /usr/local/lib/python3.6/dist-packages (from PyDrive) (1.6.7)\n",
            "Requirement already satisfied: oauth2client>=4.0.0 in /usr/local/lib/python3.6/dist-packages (from PyDrive) (4.1.3)\n",
            "Requirement already satisfied: PyYAML>=3.0 in /usr/local/lib/python3.6/dist-packages (from PyDrive) (3.13)\n",
            "Requirement already satisfied: httplib2<1dev,>=0.9.2 in /usr/local/lib/python3.6/dist-packages (from google-api-python-client>=1.2->PyDrive) (0.11.3)\n",
            "Requirement already satisfied: six<2dev,>=1.6.1 in /usr/local/lib/python3.6/dist-packages (from google-api-python-client>=1.2->PyDrive) (1.11.0)\n",
            "Requirement already satisfied: uritemplate<4dev,>=3.0.0 in /usr/local/lib/python3.6/dist-packages (from google-api-python-client>=1.2->PyDrive) (3.0.0)\n",
            "Requirement already satisfied: pyasn1>=0.1.7 in /usr/local/lib/python3.6/dist-packages (from oauth2client>=4.0.0->PyDrive) (0.4.5)\n",
            "Requirement already satisfied: rsa>=3.1.4 in /usr/local/lib/python3.6/dist-packages (from oauth2client>=4.0.0->PyDrive) (4.0)\n",
            "Requirement already satisfied: pyasn1-modules>=0.0.5 in /usr/local/lib/python3.6/dist-packages (from oauth2client>=4.0.0->PyDrive) (0.2.4)\n"
          ],
          "name": "stdout"
        }
      ]
    },
    {
      "metadata": {
        "id": "j2vYArYW7ZkI",
        "colab_type": "text"
      },
      "cell_type": "markdown",
      "source": [
        "### Требования к фотографии:\n",
        "\n",
        "\n",
        "1.   На фото должен быть один человек в одежде по фигуре. К примеру: майка,  тонкая кофта по фигуре.\n",
        "2.   Руки расставленны чуть в стороны, чтоб между рукой и туловищем было пространство\n",
        "3.   Ноги **не** вместе\n",
        "### Чтоб загрузить фото нужно:\n",
        "\n",
        "\n",
        "1.   Загрузить фото на гугл диск и скопировать общедоступную ссылку на файл\n",
        "2.   Скопировать id файла и вставить с воотвецтвующий параметр как в коде ниже \n",
        "\n",
        "Например, в ссылке \n",
        "https://drive.google.com/file/d/1DhYW8OwLG-bpxN8x6rCocZE9Fs4L1m57/view?usp=sharing\n",
        "\n",
        "id файла: 1DhYW8OwLG-bpxN8x6rCocZE9Fs4L1m57\n",
        "\n",
        "\n",
        "\n"
      ]
    },
    {
      "metadata": {
        "id": "2FW5wtuPPO62",
        "colab_type": "code",
        "colab": {}
      },
      "cell_type": "code",
      "source": [
        "# https://drive.google.com/file/d/1UipgdGRzsiHFbjUiPs_YKCSbzDqpS_zR/view?usp=sharing\n",
        "# https://drive.google.com/file/d/1DhYW8OwLG-bpxN8x6rCocZE9Fs4L1m57/view?usp=sharing\n",
        "\n",
        "download = drive.CreateFile({'id': '1CYqSn4PFWpVpTZ6VUp4kvs8qXK-3rg1w'})\n",
        "download.GetContentFile('file.jpg')\n",
        "download = drive.CreateFile({'id': '1DhYW8OwLG-bpxN8x6rCocZE9Fs4L1m57'})\n",
        "download.GetContentFile('file1.jpg')\n",
        "download = drive.CreateFile({'id': '1DhYW8OwLG-bpxN8x6rCocZE9Fs4L1m57'})\n",
        "download.GetContentFile('file2.jpg')\n"
      ],
      "execution_count": 0,
      "outputs": []
    },
    {
      "metadata": {
        "id": "E1-OUkeDvLuD",
        "colab_type": "text"
      },
      "cell_type": "markdown",
      "source": [
        "# Remove background"
      ]
    },
    {
      "metadata": {
        "id": "bXh7cSNWvKjx",
        "colab_type": "code",
        "colab": {}
      },
      "cell_type": "code",
      "source": [
        "import requests\n",
        "api_key = '756u7RGGWUD6B5AYPwUjXmhZ'\n",
        "def get_no_bg_img(path, api_key):\n",
        "    API_KEY = api_key\n",
        "    headers = {\n",
        "        'X-API-Key': API_KEY,\n",
        "    }\n",
        "\n",
        "    files = {\n",
        "        'image_file': (path, open(path, 'rb')),\n",
        "    }\n",
        "\n",
        "    response = requests.post('https://api.remove.bg/v1.0/removebg', headers=headers, files=files)\n",
        "    return response"
      ],
      "execution_count": 0,
      "outputs": []
    },
    {
      "metadata": {
        "id": "0xCmGAeMvcPb",
        "colab_type": "code",
        "colab": {}
      },
      "cell_type": "code",
      "source": [
        "path = 'file1.jpg'\n",
        "no_bg_path = 'new_no_bg.png'\n",
        "response = get_no_bg_img(path, api_key)\n",
        "with open(no_bg_path,'wb') as f:\n",
        "    f.write(response.content)\n"
      ],
      "execution_count": 0,
      "outputs": []
    },
    {
      "metadata": {
        "id": "5wIFpFBbwIUA",
        "colab_type": "code",
        "colab": {}
      },
      "cell_type": "code",
      "source": [
        "# to download file without background\n",
        "files.download(no_bg_path)"
      ],
      "execution_count": 0,
      "outputs": []
    },
    {
      "metadata": {
        "id": "1Mp70um5c1au",
        "colab_type": "text"
      },
      "cell_type": "markdown",
      "source": [
        "# Getting pose"
      ]
    },
    {
      "metadata": {
        "id": "P7qbTlTJKKJr",
        "colab_type": "code",
        "colab": {}
      },
      "cell_type": "code",
      "source": [
        "import math\n",
        "def get_contour(orign_img, new_img, on_mask=True):\n",
        "  img = cv2.imread(orign_img)\n",
        "  new_img = cv2.imread(new_img)\n",
        "  \n",
        "  # create mask\n",
        "  mask = img.copy()\n",
        "  for i in range(len(mask)):\n",
        "    for j in range(len(mask[0])):\n",
        "      if (img[i][j] != np.array([0,0,0])).all():\n",
        "        mask[i][j] = np.array([255,255,255])\n",
        "  \n",
        "  imgray = cv2.cvtColor(mask,cv2.COLOR_BGR2GRAY)\n",
        "  ret,thresh = cv2.threshold(imgray,127,255,0)\n",
        "  im2, contours, hierarchy = cv2.findContours(thresh,cv2.RETR_TREE,cv2.CHAIN_APPROX_SIMPLE)\n",
        "  if on_mask == True:\n",
        "    img_2 = cv2.drawContours(mask, contours, -1, (0,255,0), 3)\n",
        "  else:\n",
        "    img_2 = cv2.drawContours(new_img, contours, -1, (0,255,0), 3)\n",
        "\n",
        "  return img_2, mask"
      ],
      "execution_count": 0,
      "outputs": []
    },
    {
      "metadata": {
        "id": "kcn37fi4JhYG",
        "colab_type": "code",
        "colab": {}
      },
      "cell_type": "code",
      "source": [
        "\"\"\" Functions for body part segmentation.\"\"\"\n",
        "\n",
        "\n",
        "def find_biggest_contour(image):\n",
        "    # Copy\n",
        "    mask = image.copy()\n",
        "    #input, gives all the contours, contour approximation compresses horizontal,\n",
        "    #vertical, and diagonal segments and leaves only their end points. For example,\n",
        "    #an up-right rectangular contour is encoded with 4 points.\n",
        "    #Optional output vector, containing information about the image topology.\n",
        "    #It has as many elements as the number of contours.\n",
        "    #we dont need it\n",
        "    for i in range(len(mask)):\n",
        "      for j in range(len(mask[0])):\n",
        "        if (image[i][j] != np.array([0,0,0])).all():\n",
        "          mask[i][j] = np.array([255,255,255])\n",
        "    imgray = cv2.cvtColor(mask,cv2.COLOR_BGR2GRAY)\n",
        "    ret,thresh = cv2.threshold(imgray,127,255,0)\n",
        "    im2, contours, hierarchy = cv2.findContours(thresh,cv2.RETR_TREE,cv2.CHAIN_APPROX_SIMPLE)\n",
        "    # Isolate largest contour\n",
        "    contour_sizes = [(cv2.contourArea(contour), contour) for contour in contours]\n",
        "    biggest_contour = max(contour_sizes, key=lambda x: x[0])[1]\n",
        "\n",
        "    mask = np.zeros(image.shape, np.uint8)\n",
        "    return biggest_contour, mask \n",
        "\n",
        "def get_neck_coords(x0,y0, x1, y1):\n",
        "    x = int(min(x0, x1) + abs(x0-x1) / 2)\n",
        "    y = int(min(y0, y1) + abs(y0-y1) * 3 / 5)\n",
        "    return x, y\n",
        "\n",
        "def get_armpit_coords(contour, centers, arm):\n",
        "    def y(p, d1, d2):\n",
        "        if d1[0] != d2[0]:\n",
        "          m = (d1[1]-d2[1]) / (d1[0] - d2[0])\n",
        "        else:\n",
        "          m = 0\n",
        "        b = d1[1] - m * d1[0]\n",
        "        \n",
        "        y = m * p[:,0] + b\n",
        "        \n",
        "        return y < p[:,1]\n",
        "    c = contour\n",
        "\n",
        "    if arm == 'left':\n",
        "      left_dot, right_dot, top_dot, bot_dot = centers[3], centers[8], centers[2], centers[8]\n",
        "      left_dot = min(left_dot[0],top_dot[0]) + abs(top_dot[0] - left_dot[0])/3, left_dot[1]\n",
        "      ind5 = y(c[:,0,:], centers[3], centers[2]).reshape(c[:,:,0].shape)\n",
        "\n",
        "    \n",
        "        \n",
        "    if arm == 'right':\n",
        "      left_dot, right_dot, top_dot, bot_dot = centers[8], centers[6], centers[5], centers[11]\n",
        "\n",
        "      right_dot = min(right_dot[0], top_dot[0]) + abs(top_dot[0] - right_dot[0])/3, right_dot[1]\n",
        "      ind5 = y(c[:,0,:], centers[5], centers[6]).reshape(c[:,:,0].shape)\n",
        "\n",
        "  \n",
        "    ind3 = c[:,:,0]>left_dot[0]\n",
        "    ind4 = c[:,:,0]<right_dot[0]\n",
        "    \n",
        "    ind = c[:,:,1]>top_dot[1] \n",
        "    ind2 = c[:,:,1]<bot_dot[1]\n",
        "    ind = ind * ind2 * ind3 * ind4 * ind5\n",
        "    c = contour[ind]\n",
        "    extLeft = tuple(c[c[:, 0].argmin()])\n",
        "    extRight = tuple(c[c[:, 0].argmax()])\n",
        "    extTop = tuple(c[c[:, 1].argmin()])\n",
        "    extBot = tuple(c[c[:, 1].argmax()])\n",
        "    extTop = extTop[0], extTop[1]\n",
        "\n",
        "    return extLeft, extRight, extTop, extBot\n",
        "  \n",
        "def getPerpCoord(aX, aY, bX, bY, length):\n",
        "    vX = bX-aX\n",
        "    vY = bY-aY\n",
        "    if vX == 0:\n",
        "\n",
        "      return bX, bY + length, bX, bY - length\n",
        "\n",
        "    if vY == 0:\n",
        "      \n",
        "      return bX + length, bY, bX - length, bY\n",
        "\n",
        "    mag = math.sqrt(vX*vX + vY*vY)\n",
        "    vX = vX / mag\n",
        "    vY = vY / mag\n",
        "    temp = vX\n",
        "    vX = 0-vY\n",
        "    vY = temp\n",
        "    cX = bX + vX * length\n",
        "    cY = bY + vY * length\n",
        "    dX = bX - vX * length\n",
        "    dY = bY - vY * length\n",
        "    return int(cX), int(cY), int(dX), int(dY)\n",
        "\n",
        "def getVector(aX, aY, bX, bY):\n",
        "    vX = bX-aX\n",
        "    vY = bY-aY\n",
        "    return vX, vY\n",
        "  \n",
        "def is_black(img, x, y):\n",
        "\n",
        "    if (img[x][y] != (0,0,0)).all():\n",
        "      return True\n",
        "    else:\n",
        "      return False\n",
        "\n",
        "def get_line(img, x1,y1,x2,y2):\n",
        "  nimg = img.copy()\n",
        "  with_line = cv2.line(img, (x1,y1), (x2,y2), [0,255,0], 3)\n",
        "  line_ind = (nimg != with_line).all(axis=-1)\n",
        "  nimg[line_ind] = [0,0,255]\n",
        "  return nimg\n",
        "\n",
        "def extend_line(img, biggest_contour,x1, y1, x2, y2, armpit=False):\n",
        "  \n",
        "    copy_img = img.copy()\n",
        "    contured_img = cv2.drawContours(copy_img, [biggest_contour], -1, [0,255,0], 3)\n",
        "\n",
        "    ind_contour = (contured_img==[0,255,0]).all(axis=-1)\n",
        "\n",
        "    #slope\n",
        "    if x1 != x2:\n",
        "      m = (y1-y2)/(x1-x2)\n",
        "    else:\n",
        "      m = 0\n",
        "    b = y1 - m * x1\n",
        "    \n",
        "    ax = max(x1, x2)\n",
        "    ay = int(round(m * ax + b))\n",
        "    \n",
        "    bx = min(x1, x2)\n",
        "    by = int(round(m * bx + b))\n",
        "    \n",
        "    # Удлиняем отрезки, пока не пересечемся с контуром тела\n",
        "    while not ind_contour[ay][ax]:\n",
        "        ax +=1\n",
        "        ay = int(round(m * ax + b))\n",
        "        if abs(ay) >= ind_contour.shape[0] or abs(ax) >= ind_contour.shape[1]:\n",
        "          break\n",
        "          \n",
        "    while not ind_contour[by][bx]:\n",
        "        bx -=1\n",
        "        by = int(round(m * bx + b))\n",
        "        if abs(by) >= ind_contour.shape[0] or abs(bx) >= ind_contour.shape[1]:\n",
        "          break\n",
        "      \n",
        "        \n",
        "    return ax, ay, bx, by\n",
        "  \n",
        "def neck_parts(p, d1, d2):\n",
        "        \"\"\"p - contour dots list\"\"\"\n",
        "        \n",
        "        if d1[0] != d2[0]:\n",
        "          m = (d1[1]-d2[1]) / (d1[0] - d2[0])\n",
        "        else:\n",
        "          m = 0\n",
        "        b = d1[1] - m * d1[0]\n",
        "        \n",
        "        med_y = min(d1[1], d2[1]) + abs(d1[1]-d2[1]) / 2 \n",
        "        max_y = max(d1[1], d2[1])\n",
        "        ind = (p[:,1] > med_y) * (p[:,1] < max_y)\n",
        "        y1 = m * p[:,0] + b\n",
        "        x1 = np.round((p[:,1] - b) / m)\n",
        "        ind_l = x1 > p[:,0]\n",
        "        ind_l = ind_l * ind\n",
        "\n",
        "        ind_r = x1 < p[:,0]\n",
        "        ind_r = ind_r * ind\n",
        "\n",
        "        return {'left_part': ind_l, 'right_part': ind_r}\n",
        "\n",
        "def find_min_dist(contour, ind_l, ind_r):\n",
        "    left_part = contour[ind_l][:,-1]\n",
        "    right_part = contour[ind_r][:,-1]\n",
        "    \n",
        "    min_dist = 1000000\n",
        "    dots = []\n",
        "    for i in left_part:\n",
        "      for j in right_part:\n",
        "        dist = np.sqrt((i[0]-j[0])**2 + (i[1]-j[1])**2)\n",
        "        if dist < min_dist:\n",
        "          min_dist = dist\n",
        "          dots = ((i[0],i[1]), (j[0],j[1]))\n",
        "          \n",
        "    return dots\n",
        "\n",
        "    \n",
        "def get_neck_coords(contour, centers):\n",
        "    \n",
        "    parts = neck_parts(contour[:,0,:], centers[0], centers[1])\n",
        "    left_ind = parts['left_part']\n",
        "\n",
        "    right_ind = parts['right_part']\n",
        "\n",
        "    p1, p2 = find_min_dist(contour, left_ind, right_ind)\n",
        "\n",
        "    return p1, p2\n"
      ],
      "execution_count": 0,
      "outputs": []
    },
    {
      "metadata": {
        "id": "rw3K6s_WYgHk",
        "colab_type": "code",
        "colab": {}
      },
      "cell_type": "code",
      "source": [
        "def draw_humans(npimg, humans, imgcopy=False, fill_white=False):\n",
        "        if imgcopy:\n",
        "            npimg = np.copy(npimg)\n",
        "        image_h, image_w = npimg.shape[:2]\n",
        "        centers = {}\n",
        "        for human in humans:\n",
        "            # draw point\n",
        "            for i in range(common.CocoPart.Background.value):\n",
        "                if i not in human.body_parts.keys():\n",
        "                    continue\n",
        "                \n",
        "                body_part = human.body_parts[i]\n",
        "                center = (int(body_part.x * image_w + 0.5), int(body_part.y * image_h + 0.5))\n",
        "                centers[i] = center\n",
        "            \n",
        "            # find contour\n",
        "            biggest_contour, mask  = find_biggest_contour(npimg)\n",
        "\n",
        "\n",
        "            # draw line\n",
        "            for pair_order, pair in enumerate(common.CocoPairsRender):\n",
        "                if pair[0] not in human.body_parts.keys() or pair[1] not in human.body_parts.keys():\n",
        "                    continue\n",
        "                if pair == (1,8) or pair == (1,11):\n",
        "                    continue\n",
        "            \n",
        "            pairs = [(6,7), (5,6), (2,5), (1,5), (5,2), (2,3), (3,4)]\n",
        "            pairs = [(6,7), (5,6), (2,3), (3,4), (8,9), (9,10),(11,12), (12,13)]\n",
        "\n",
        "            \n",
        "            for pair in pairs:\n",
        "                \n",
        "                line_coords = getPerpCoord(*centers[pair[0]], *centers[pair[1]], 3)\n",
        "                p1 = (line_coords[0],line_coords[1])\n",
        "                p2 = (line_coords[2],line_coords[3])\n",
        "                x1, y1, x2, y2 = extend_line(npimg,biggest_contour, *p1, *p2)\n",
        "                npimg = get_line(npimg, x1, y1, x2, y2)\n",
        "            \n",
        "            # neck \n",
        "            p1, p2 = get_neck_coords(biggest_contour, centers)\n",
        "            cv2.circle(npimg, p1, 3, (255, 0, 0), -1)\n",
        "            cv2.circle(npimg, p2, 3, (255, 0, 0), -1)\n",
        "            x1, y1, x2, y2 = extend_line(npimg, biggest_contour, *p1, *p2)\n",
        "            npimg = get_line(npimg, x1, y1, x2, y2)\n",
        "            \n",
        "            # left arm\n",
        "            extLeft, extRight, extTop, extBot = get_armpit_coords(biggest_contour, centers, 'left')\n",
        "            x1, y1, x2, y2 = extend_line(npimg,biggest_contour, *centers[2],*extTop, armpit=True)\n",
        "            npimg = get_line(npimg, x1, y1, x2, y2)\n",
        "\n",
        "            # right arm\n",
        "            extLeft, extRight, extTop, extBot = get_armpit_coords(biggest_contour, centers, 'right')\n",
        "            x1, y1, x2, y2 = extend_line(npimg,biggest_contour,  *centers[5],*extTop, armpit=True)\n",
        "            npimg = get_line(npimg, x1, y1, x2, y2)\n",
        "            \n",
        "            # legs\n",
        "            x1, y1, x2, y2 = extend_line(npimg,biggest_contour, *centers[8], *centers[11])\n",
        "            npimg = get_line(npimg, x1, y1, x2, y2)\n",
        "            \n",
        "            # draw contour\n",
        "            npimg = cv2.drawContours(npimg, [biggest_contour], -1, [0,0, 255], 3)\n",
        "            conture = (npimg==[0,0,255]).all(axis=-1)\n",
        "            \n",
        "            # neck \n",
        "            p1, p2 = get_neck_coords(biggest_contour, centers)\n",
        "            cv2.circle(npimg, p1, 3, (255, 0, 0), -1)\n",
        "            cv2.circle(npimg, p2, 3, (255, 0, 0), -1)\n",
        "            x1, y1, x2, y2 = extend_line(npimg, biggest_contour, *p1, *p2)\n",
        "            npimg = get_line(npimg, x1, y1, x2, y2)\n",
        "            \n",
        "            # fill contour white colour\n",
        "            if fill_white:\n",
        "              npimg = cv2.drawContours(npimg, [biggest_contour], -1, [255,255, 255], -1)\n",
        "              npimg[conture] = (0,0,255)\n",
        "\n",
        "        return npimg"
      ],
      "execution_count": 0,
      "outputs": []
    },
    {
      "metadata": {
        "id": "LYaf8azeU_fU",
        "colab_type": "code",
        "outputId": "67c402f4-3cae-48a8-c45b-25ad92e5bc97",
        "colab": {
          "base_uri": "https://localhost:8080/",
          "height": 230
        }
      },
      "cell_type": "code",
      "source": [
        "import argparse\n",
        "import logging\n",
        "import sys\n",
        "import time\n",
        "\n",
        "from tf_pose import common\n",
        "import cv2\n",
        "import numpy as np\n",
        "from tf_pose.estimator import TfPoseEstimator\n",
        "from tf_pose.networks import get_graph_path, model_wh\n",
        "logger = logging.getLogger('TfPoseEstimator')\n",
        "logger.setLevel(logging.DEBUG)\n",
        "ch = logging.StreamHandler()\n",
        "ch.setLevel(logging.DEBUG)\n",
        "formatter = logging.Formatter('[%(asctime)s] [%(name)s] [%(levelname)s] %(message)s')\n",
        "ch.setFormatter(formatter)\n",
        "logger.addHandler(ch)\n",
        "w, h = model_wh('432x368')\n",
        "if w == 0 or h == 0:\n",
        "    e = TfPoseEstimator(get_graph_path('mobilenet_thin'), target_size=(432, 368))\n",
        "else:\n",
        "    e = TfPoseEstimator(get_graph_path('mobilenet_thin'), target_size=(w, h))\n",
        "\n",
        "def pose_estimate(image_path, fill_white=False):\n",
        "    \n",
        "        \n",
        "    # estimate human poses from a single image !\n",
        "    image = common.read_imgfile(image_path, None, None)\n",
        "    if image is None:\n",
        "        logger.error('Image can not be read, path=%s' % image)\n",
        "        sys.exit(-1)\n",
        "    t = time.time()\n",
        "    humans = e.inference(image, resize_to_default=(w > 0 and h > 0), upsample_size=4.0)\n",
        "    print(humans)\n",
        "    elapsed = time.time() - t\n",
        "\n",
        "    logger.info('inference image: %s in %.4f seconds.' % (image_path, elapsed))\n",
        "#     image = TfPoseEstimator.draw_humans(image, humans, imgcopy=False)\n",
        "#     contured_img, mask = get_contour(image_path, image_path, on_mask=False)\n",
        "  \n",
        "    image = draw_humans(image, humans, imgcopy=False, fill_white=fill_white)\n",
        "    \n",
        "    \n",
        "    return image, humans\n"
      ],
      "execution_count": 0,
      "outputs": [
        {
          "output_type": "stream",
          "text": [
            "[2019-03-19 19:09:08,356] [TfPoseEstimator] [INFO] loading graph from /content/tf-openpose/models/graph/mobilenet_thin/graph_opt.pb(default size=432x368)\n",
            "[2019-03-19 19:09:08,356] [TfPoseEstimator] [INFO] loading graph from /content/tf-openpose/models/graph/mobilenet_thin/graph_opt.pb(default size=432x368)\n",
            "[2019-03-19 19:09:08,356] [TfPoseEstimator] [INFO] loading graph from /content/tf-openpose/models/graph/mobilenet_thin/graph_opt.pb(default size=432x368)\n",
            "[2019-03-19 19:09:08,356] [TfPoseEstimator] [INFO] loading graph from /content/tf-openpose/models/graph/mobilenet_thin/graph_opt.pb(default size=432x368)\n",
            "[2019-03-19 19:09:08,356] [TfPoseEstimator] [INFO] loading graph from /content/tf-openpose/models/graph/mobilenet_thin/graph_opt.pb(default size=432x368)\n",
            "[2019-03-19 19:09:08,356] [TfPoseEstimator] [INFO] loading graph from /content/tf-openpose/models/graph/mobilenet_thin/graph_opt.pb(default size=432x368)\n",
            "[2019-03-19 19:09:08,356] [TfPoseEstimator] [INFO] loading graph from /content/tf-openpose/models/graph/mobilenet_thin/graph_opt.pb(default size=432x368)\n",
            "[2019-03-19 19:09:08,356] [TfPoseEstimator] [INFO] loading graph from /content/tf-openpose/models/graph/mobilenet_thin/graph_opt.pb(default size=432x368)\n",
            "[2019-03-19 19:09:08,356] [TfPoseEstimator] [INFO] loading graph from /content/tf-openpose/models/graph/mobilenet_thin/graph_opt.pb(default size=432x368)\n",
            "[2019-03-19 19:09:08,356] [TfPoseEstimator] [INFO] loading graph from /content/tf-openpose/models/graph/mobilenet_thin/graph_opt.pb(default size=432x368)\n",
            "[2019-03-19 19:09:08,356] [TfPoseEstimator] [INFO] loading graph from /content/tf-openpose/models/graph/mobilenet_thin/graph_opt.pb(default size=432x368)\n",
            "[2019-03-19 19:09:08,356] [TfPoseEstimator] [INFO] loading graph from /content/tf-openpose/models/graph/mobilenet_thin/graph_opt.pb(default size=432x368)\n"
          ],
          "name": "stderr"
        }
      ]
    },
    {
      "metadata": {
        "id": "DtsypBqsO1Ug",
        "colab_type": "code",
        "outputId": "3ade7f7c-156c-437b-dd18-84498cdb1fcb",
        "colab": {
          "base_uri": "https://localhost:8080/",
          "height": 1503
        }
      },
      "cell_type": "code",
      "source": [
        "from IPython.display import Image, display\n",
        "\n",
        "#choose ex1.jpg, ex2.jpg, ex3.jpg or ex4.jpg\n",
        "# image_path = './ex1.jpg'\n",
        "image_path = no_bg_path\n",
        "new_img, humans = pose_estimate(image_path, fill_white=False)\n",
        "new_img_path = './'+'estimated_'+ image_path[3:]\n",
        "print(new_img_path)\n",
        "cv2.imwrite(new_img_path, new_img)\n",
        "display(Image(new_img_path))"
      ],
      "execution_count": 0,
      "outputs": [
        {
          "output_type": "stream",
          "text": [
            "[2019-03-19 19:09:15,547] [TfPoseEstimator] [DEBUG] inference+ original shape=433x577\n",
            "[2019-03-19 19:09:15,547] [TfPoseEstimator] [DEBUG] inference+ original shape=433x577\n",
            "[2019-03-19 19:09:15,547] [TfPoseEstimator] [DEBUG] inference+ original shape=433x577\n",
            "[2019-03-19 19:09:15,547] [TfPoseEstimator] [DEBUG] inference+ original shape=433x577\n",
            "[2019-03-19 19:09:15,547] [TfPoseEstimator] [DEBUG] inference+ original shape=433x577\n",
            "[2019-03-19 19:09:15,547] [TfPoseEstimator] [DEBUG] inference+ original shape=433x577\n",
            "[2019-03-19 19:09:15,547] [TfPoseEstimator] [DEBUG] inference+ original shape=433x577\n",
            "[2019-03-19 19:09:15,547] [TfPoseEstimator] [DEBUG] inference+ original shape=433x577\n",
            "[2019-03-19 19:09:15,547] [TfPoseEstimator] [DEBUG] inference+ original shape=433x577\n",
            "[2019-03-19 19:09:15,547] [TfPoseEstimator] [DEBUG] inference+ original shape=433x577\n",
            "[2019-03-19 19:09:15,547] [TfPoseEstimator] [DEBUG] inference+ original shape=433x577\n",
            "[2019-03-19 19:09:15,547] [TfPoseEstimator] [DEBUG] inference+ original shape=433x577\n",
            "[2019-03-19 19:09:15,637] [TfPoseEstimator] [DEBUG] inference- heatMat=216x184 pafMat=216x184\n",
            "[2019-03-19 19:09:15,637] [TfPoseEstimator] [DEBUG] inference- heatMat=216x184 pafMat=216x184\n",
            "[2019-03-19 19:09:15,637] [TfPoseEstimator] [DEBUG] inference- heatMat=216x184 pafMat=216x184\n",
            "[2019-03-19 19:09:15,637] [TfPoseEstimator] [DEBUG] inference- heatMat=216x184 pafMat=216x184\n",
            "[2019-03-19 19:09:15,637] [TfPoseEstimator] [DEBUG] inference- heatMat=216x184 pafMat=216x184\n",
            "[2019-03-19 19:09:15,637] [TfPoseEstimator] [DEBUG] inference- heatMat=216x184 pafMat=216x184\n",
            "[2019-03-19 19:09:15,637] [TfPoseEstimator] [DEBUG] inference- heatMat=216x184 pafMat=216x184\n",
            "[2019-03-19 19:09:15,637] [TfPoseEstimator] [DEBUG] inference- heatMat=216x184 pafMat=216x184\n",
            "[2019-03-19 19:09:15,637] [TfPoseEstimator] [DEBUG] inference- heatMat=216x184 pafMat=216x184\n",
            "[2019-03-19 19:09:15,637] [TfPoseEstimator] [DEBUG] inference- heatMat=216x184 pafMat=216x184\n",
            "[2019-03-19 19:09:15,637] [TfPoseEstimator] [DEBUG] inference- heatMat=216x184 pafMat=216x184\n",
            "[2019-03-19 19:09:15,637] [TfPoseEstimator] [DEBUG] inference- heatMat=216x184 pafMat=216x184\n",
            "[2019-03-19 19:09:15,667] [TfPoseEstimator] [DEBUG] estimate time=0.00434\n",
            "[2019-03-19 19:09:15,667] [TfPoseEstimator] [DEBUG] estimate time=0.00434\n",
            "[2019-03-19 19:09:15,667] [TfPoseEstimator] [DEBUG] estimate time=0.00434\n",
            "[2019-03-19 19:09:15,667] [TfPoseEstimator] [DEBUG] estimate time=0.00434\n",
            "[2019-03-19 19:09:15,667] [TfPoseEstimator] [DEBUG] estimate time=0.00434\n",
            "[2019-03-19 19:09:15,667] [TfPoseEstimator] [DEBUG] estimate time=0.00434\n",
            "[2019-03-19 19:09:15,667] [TfPoseEstimator] [DEBUG] estimate time=0.00434\n",
            "[2019-03-19 19:09:15,667] [TfPoseEstimator] [DEBUG] estimate time=0.00434\n",
            "[2019-03-19 19:09:15,667] [TfPoseEstimator] [DEBUG] estimate time=0.00434\n",
            "[2019-03-19 19:09:15,667] [TfPoseEstimator] [DEBUG] estimate time=0.00434\n",
            "[2019-03-19 19:09:15,667] [TfPoseEstimator] [DEBUG] estimate time=0.00434\n",
            "[2019-03-19 19:09:15,667] [TfPoseEstimator] [DEBUG] estimate time=0.00434\n",
            "[2019-03-19 19:09:15,689] [TfPoseEstimator] [INFO] inference image: new_no_bg.png in 0.1421 seconds.\n",
            "[2019-03-19 19:09:15,689] [TfPoseEstimator] [INFO] inference image: new_no_bg.png in 0.1421 seconds.\n",
            "[2019-03-19 19:09:15,689] [TfPoseEstimator] [INFO] inference image: new_no_bg.png in 0.1421 seconds.\n",
            "[2019-03-19 19:09:15,689] [TfPoseEstimator] [INFO] inference image: new_no_bg.png in 0.1421 seconds.\n",
            "[2019-03-19 19:09:15,689] [TfPoseEstimator] [INFO] inference image: new_no_bg.png in 0.1421 seconds.\n",
            "[2019-03-19 19:09:15,689] [TfPoseEstimator] [INFO] inference image: new_no_bg.png in 0.1421 seconds.\n",
            "[2019-03-19 19:09:15,689] [TfPoseEstimator] [INFO] inference image: new_no_bg.png in 0.1421 seconds.\n",
            "[2019-03-19 19:09:15,689] [TfPoseEstimator] [INFO] inference image: new_no_bg.png in 0.1421 seconds.\n",
            "[2019-03-19 19:09:15,689] [TfPoseEstimator] [INFO] inference image: new_no_bg.png in 0.1421 seconds.\n",
            "[2019-03-19 19:09:15,689] [TfPoseEstimator] [INFO] inference image: new_no_bg.png in 0.1421 seconds.\n",
            "[2019-03-19 19:09:15,689] [TfPoseEstimator] [INFO] inference image: new_no_bg.png in 0.1421 seconds.\n",
            "[2019-03-19 19:09:15,689] [TfPoseEstimator] [INFO] inference image: new_no_bg.png in 0.1421 seconds.\n"
          ],
          "name": "stderr"
        },
        {
          "output_type": "stream",
          "text": [
            "[BodyPart:0-(0.49, 0.12) score=0.82 BodyPart:1-(0.48, 0.27) score=0.69 BodyPart:2-(0.36, 0.27) score=0.70 BodyPart:3-(0.32, 0.39) score=0.63 BodyPart:4-(0.27, 0.53) score=0.74 BodyPart:5-(0.60, 0.27) score=0.73 BodyPart:6-(0.64, 0.40) score=0.75 BodyPart:7-(0.65, 0.53) score=0.78 BodyPart:8-(0.39, 0.53) score=0.51 BodyPart:9-(0.38, 0.72) score=0.34 BodyPart:10-(0.36, 0.86) score=0.32 BodyPart:11-(0.53, 0.54) score=0.48 BodyPart:12-(0.55, 0.69) score=0.47 BodyPart:13-(0.57, 0.85) score=0.46 BodyPart:14-(0.47, 0.10) score=0.82 BodyPart:15-(0.51, 0.11) score=0.78 BodyPart:16-(0.43, 0.13) score=0.78 BodyPart:17-(0.55, 0.14) score=0.88]\n",
            "./estimated__no_bg.png\n"
          ],
          "name": "stdout"
        },
        {
          "output_type": "display_data",
          "data": {
            "image/png": "[encoded data removed]",
            "text/plain": [
              "<IPython.core.display.Image object>"
            ]
          },
          "metadata": {
            "tags": []
          }
        }
      ]
    },
    {
      "metadata": {
        "id": "BV4lbdSJgwaX",
        "colab_type": "code",
        "colab": {}
      },
      "cell_type": "code",
      "source": [
        "# to download the processed image\n",
        "files.download(new_img_path)"
      ],
      "execution_count": 0,
      "outputs": []
    },
    {
      "metadata": {
        "id": "UbehhBCk5aE0",
        "colab_type": "code",
        "colab": {}
      },
      "cell_type": "code",
      "source": [
        ""
      ],
      "execution_count": 0,
      "outputs": []
    }
  ]
}